{
 "cells": [
  {
   "cell_type": "code",
   "execution_count": 39,
   "id": "85567f31",
   "metadata": {},
   "outputs": [
    {
     "data": {
      "text/plain": [
       "0.796"
      ]
     },
     "execution_count": 39,
     "metadata": {},
     "output_type": "execute_result"
    }
   ],
   "source": [
    "import pandas as pd\n",
    "import numpy as np\n",
    "from sklearn.model_selection import train_test_split\n",
    "from sklearn.model_selection import RandomizedSearchCV\n",
    "from sklearn.preprocessing import OneHotEncoder\n",
    "from sklearn.neural_network import MLPClassifier\n",
    "\n",
    "train = pd.read_csv(\"train.csv\")\n",
    "test = pd.read_csv(\"test.csv\")\n",
    "\n",
    "geo = pd.get_dummies(train[\"Geography\"])\n",
    "train = pd.concat([train, geo], axis = 1)\n",
    "\n",
    "gen = OneHotEncoder(sparse = False)\n",
    "train[\"Gender\"] = gen.fit_transform(train[[\"Gender\"]])\n",
    "\n",
    "x = train[[\"CreditScore\", \"Gender\", \"Tenure\", \"Balance\", \"NumOfProducts\",\n",
    "           \"HasCrCard\", \"IsActiveMember\", \"EstimatedSalary\", \"France\", \"Germany\", \"Spain\"]].values\n",
    "y = train[\"Exited\"].values\n",
    "\n",
    "\n",
    "geo_test = pd.get_dummies(test[\"Geography\"])\n",
    "test = pd.concat([test, geo_test], axis = 1)\n",
    "\n",
    "gen_test = OneHotEncoder(sparse = False)\n",
    "test[\"Gender\"] = gen_test.fit_transform(test[[\"Gender\"]])\n",
    "\n",
    "x_test = test[[\"CreditScore\", \"Gender\", \"Tenure\", \"Balance\", \"NumOfProducts\",\n",
    "           \"HasCrCard\", \"IsActiveMember\", \"EstimatedSalary\", \"France\", \"Germany\", \"Spain\"]].values\n",
    "\n",
    "# X_train, X_test, Y_train, Y_test = train_test_split(x, y,\n",
    "#                                                     test_size = 0.25,\n",
    "#                                                     random_state = 1234,\n",
    "#                                                     stratify = y)\n",
    "\n",
    "classifier = MLPClassifier(activation = \"identity\", solver = \"adam\", alpha = 0.5, learning_rate = \"adaptive\")\n",
    "\n",
    "# # hidden_layer_sizes = [(50,50,50), (50,100,50), (100,)],\n",
    "# activation = [\"identity\", \"logistic\", \"tanh\", \"relu\"]\n",
    "# solver = [\"lbfgs\", \"sgd\", \"adam\"]\n",
    "# alpha = [x for x in np.linspace(0.0001, 0.05)]\n",
    "# learning_rate = [\"constant\", \"invscaling\", \"adaptive\"]\n",
    "\n",
    "# random_grid = {\n",
    "# #                 \"hidden_layer_sizes\": hidden_layer_sizes,\n",
    "#                 \"activation\": activation,\n",
    "#                 \"solver\": solver,\n",
    "#                 \"alpha\": alpha,\n",
    "#                 \"learning_rate\": learning_rate}\n",
    "\n",
    "# classifier_random = RandomizedSearchCV(classifier,\n",
    "#                                    param_distributions = random_grid,\n",
    "#                                    n_iter = 50,\n",
    "#                                    cv = 5)\n",
    "# classifier_random = classifier_random.fit(x, y)\n",
    "# result = classifier_random.predict(x_test)\n",
    "\n",
    "classifier = classifier.fit(x, y)\n",
    "result = classifier.predict(x_test)\n",
    "\n",
    "# result = pd.Series(result, name = \"Exited\")\n",
    "# result = result.to_frame()\n",
    "\n",
    "# out = pd.concat([test[[\"RowNumber\"]], result], axis = 1)\n",
    "# out.to_csv(\"mlp.csv\")\n",
    "\n",
    "classifier.score(x, y)"
   ]
  }
 ],
 "metadata": {
  "kernelspec": {
   "display_name": "Python 3",
   "language": "python",
   "name": "python3"
  },
  "language_info": {
   "codemirror_mode": {
    "name": "ipython",
    "version": 3
   },
   "file_extension": ".py",
   "mimetype": "text/x-python",
   "name": "python",
   "nbconvert_exporter": "python",
   "pygments_lexer": "ipython3",
   "version": "3.8.8"
  }
 },
 "nbformat": 4,
 "nbformat_minor": 5
}
