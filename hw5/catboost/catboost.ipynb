{
 "cells": [
  {
   "cell_type": "code",
   "execution_count": 22,
   "id": "225991da",
   "metadata": {},
   "outputs": [
    {
     "name": "stdout",
     "output_type": "stream",
     "text": [
      "0:\tlearn: 0.4577931\ttotal: 27.9ms\tremaining: 391ms\n",
      "1:\tlearn: 0.4192472\ttotal: 30.8ms\tremaining: 200ms\n",
      "2:\tlearn: 0.3913078\ttotal: 60.2ms\tremaining: 241ms\n",
      "3:\tlearn: 0.3842110\ttotal: 64.1ms\tremaining: 176ms\n",
      "4:\tlearn: 0.3675145\ttotal: 92.6ms\tremaining: 185ms\n",
      "5:\tlearn: 0.3609866\ttotal: 121ms\tremaining: 181ms\n",
      "6:\tlearn: 0.3562920\ttotal: 150ms\tremaining: 171ms\n",
      "7:\tlearn: 0.3489065\ttotal: 179ms\tremaining: 157ms\n",
      "8:\tlearn: 0.3450800\ttotal: 207ms\tremaining: 138ms\n",
      "9:\tlearn: 0.3430557\ttotal: 238ms\tremaining: 119ms\n",
      "10:\tlearn: 0.3400564\ttotal: 267ms\tremaining: 97.2ms\n",
      "11:\tlearn: 0.3356685\ttotal: 295ms\tremaining: 73.8ms\n",
      "12:\tlearn: 0.3309041\ttotal: 321ms\tremaining: 49.4ms\n",
      "13:\tlearn: 0.3286655\ttotal: 348ms\tremaining: 24.9ms\n",
      "14:\tlearn: 0.3271145\ttotal: 374ms\tremaining: 0us\n"
     ]
    },
    {
     "data": {
      "text/plain": [
       "0.8215"
      ]
     },
     "execution_count": 22,
     "metadata": {},
     "output_type": "execute_result"
    }
   ],
   "source": [
    "import pandas as pd\n",
    "import numpy as np\n",
    "from sklearn.model_selection import train_test_split\n",
    "from sklearn.model_selection import RandomizedSearchCV\n",
    "from sklearn.preprocessing import OneHotEncoder\n",
    "import catboost as ctb\n",
    "from catboost import Pool, CatBoostClassifier\n",
    "import warnings\n",
    "\n",
    "warnings.filterwarnings('ignore')\n",
    "\n",
    "train = pd.read_csv(\"train.csv\")\n",
    "test = pd.read_csv(\"test.csv\")\n",
    "\n",
    "# # 處理訓練資料的國家資訊\n",
    "geo = pd.get_dummies(train[\"Geography\"])\n",
    "train = pd.concat([train, geo], axis = 1)\n",
    "\n",
    "# 處理訓練資料的性別資訊\n",
    "gen = OneHotEncoder(sparse = False)\n",
    "train[\"Gender\"] = gen.fit_transform(train[[\"Gender\"]])\n",
    "\n",
    "# 選取訓練資料的變數\n",
    "x = train[[\"CreditScore\", \"Gender\", \"Tenure\", \"Balance\", \"NumOfProducts\",\n",
    "           \"HasCrCard\", \"IsActiveMember\", \"EstimatedSalary\", \"France\", \"Germany\", \"Spain\"]].values\n",
    "# , \"France\", \"Germany\", \"Spain\"\n",
    "y = train[\"Exited\"].values\n",
    "\n",
    "# # 處理測試資料的國家資訊\n",
    "geo_test = pd.get_dummies(test[\"Geography\"])\n",
    "test = pd.concat([test, geo_test], axis = 1)\n",
    "\n",
    "# 處理測試資料的性別資訊\n",
    "gen_test = OneHotEncoder(sparse = False)\n",
    "test[\"Gender\"] = gen_test.fit_transform(test[[\"Gender\"]])\n",
    "\n",
    "# 選取測試資料的變數\n",
    "x_test = test[[\"CreditScore\", \"Gender\", \"Tenure\", \"Balance\", \"NumOfProducts\",\n",
    "           \"HasCrCard\", \"IsActiveMember\", \"EstimatedSalary\", \"France\", \"Germany\", \"Spain\"]].values\n",
    "\n",
    "\n",
    "X_train, X_test, Y_train, Y_test = train_test_split(x, y,\n",
    "                                                      test_size = 0.25,\n",
    "                                                      random_state = 1234,\n",
    "                                                      stratify = y)\n",
    "\n",
    "# x_dataset = Pool(data = x, cat_features = [1])\n",
    "\n",
    "classifier = CatBoostClassifier(iterations = 15, learning_rate = 0.8, depth = 10, loss_function = \"CrossEntropy\")\n",
    "\n",
    "# iterations = [x for x in np.linspace(40, 100, 7)]\n",
    "# learning_rate = [x for x in np.linspace(0, 1, 11)]\n",
    "# depth = [x for x in np.linspace(5, 20, 16)]\n",
    "# loss_function = [\"Logloss\", \"CrossEntropy\", \"MultiClass\"]\n",
    "\n",
    "# random_grid = {\"iterations\": iterations,\n",
    "#                \"learning_rate\": learning_rate,\n",
    "#                \"depth\": depth,\n",
    "#                \"loss_function\": loss_function}\n",
    "\n",
    "# # 執行random search\n",
    "# classifier_random = RandomizedSearchCV(classifier,\n",
    "#                                        param_distributions = random_grid,\n",
    "#                                        n_iter = 10,\n",
    "#                                        cv = 2)\n",
    "# classifier_random = classifier_random.fit(X_train, Y_train, cat_features = [1])\n",
    "classifier = classifier.fit(X_train, Y_train)\n",
    "\n",
    "# 預測並儲存結果\n",
    "result = classifier.predict(X_test)\n",
    "\n",
    "# result = pd.Series(result, name = \"Exited\")\n",
    "# result = result.to_frame()\n",
    "\n",
    "# out = pd.concat([test[[\"RowNumber\"]], result], axis = 1)\n",
    "# out.to_csv(\"catboost.csv\")\n",
    "\n",
    "# 印出best params\n",
    "# print(\"best params:\", classifier_random.best_params_)\n",
    "\n",
    "# 評估訓練資料的準確度\n",
    "classifier.score(X_test, Y_test)"
   ]
  }
 ],
 "metadata": {
  "kernelspec": {
   "display_name": "Python 3",
   "language": "python",
   "name": "python3"
  },
  "language_info": {
   "codemirror_mode": {
    "name": "ipython",
    "version": 3
   },
   "file_extension": ".py",
   "mimetype": "text/x-python",
   "name": "python",
   "nbconvert_exporter": "python",
   "pygments_lexer": "ipython3",
   "version": "3.8.8"
  }
 },
 "nbformat": 4,
 "nbformat_minor": 5
}
