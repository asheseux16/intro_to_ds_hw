{
 "cells": [
  {
   "cell_type": "code",
   "execution_count": 13,
   "id": "6349a369",
   "metadata": {
    "scrolled": true
   },
   "outputs": [
    {
     "data": {
      "text/plain": [
       "0.8225"
      ]
     },
     "execution_count": 13,
     "metadata": {},
     "output_type": "execute_result"
    }
   ],
   "source": [
    "import pandas as pd\n",
    "import numpy as np\n",
    "from sklearn.model_selection import train_test_split\n",
    "from sklearn.model_selection import RandomizedSearchCV\n",
    "from sklearn.preprocessing import OneHotEncoder\n",
    "from sklearn import ensemble\n",
    "\n",
    "train = pd.read_csv(\"train.csv\")\n",
    "test = pd.read_csv(\"test.csv\")\n",
    "\n",
    "geo = pd.get_dummies(train[\"Geography\"])\n",
    "train = pd.concat([train, geo], axis = 1)\n",
    "\n",
    "gen = OneHotEncoder(sparse = False)\n",
    "train[\"Gender\"] = gen.fit_transform(train[[\"Gender\"]])\n",
    "\n",
    "x = train[[\"CreditScore\", \"Gender\", \"Tenure\", \"Balance\", \"NumOfProducts\",\n",
    "           \"HasCrCard\", \"IsActiveMember\", \"EstimatedSalary\", \"France\", \"Germany\", \"Spain\"]].values\n",
    "y = train[\"Exited\"].values\n",
    "\n",
    "\n",
    "geo_test = pd.get_dummies(test[\"Geography\"])\n",
    "test = pd.concat([test, geo_test], axis = 1)\n",
    "\n",
    "gen_test = OneHotEncoder(sparse = False)\n",
    "test[\"Gender\"] = gen_test.fit_transform(test[[\"Gender\"]])\n",
    "\n",
    "x_test = test[[\"CreditScore\", \"Gender\", \"Tenure\", \"Balance\", \"NumOfProducts\",\n",
    "           \"HasCrCard\", \"IsActiveMember\", \"EstimatedSalary\", \"France\", \"Germany\", \"Spain\"]].values\n",
    "\n",
    "X_train, X_test, Y_train, Y_test = train_test_split(x, y,\n",
    "                                                    test_size = 0.25,\n",
    "                                                    random_state = 1234,\n",
    "                                                    stratify = y)\n",
    "\n",
    "classifier = ensemble.RandomForestClassifier()\n",
    "# n_estimators = 14, max_features = \"auto\", min_samples_leaf = 10\n",
    "\n",
    "n_estimators = [x for x in np.linspace(1, 20, 20, dtype = int)]\n",
    "max_features = [\"auto\", \"sqrt\"]\n",
    "min_samples_leaf = [x for x in np.linspace(1, 10, 10, dtype = int)]\n",
    "\n",
    "random_grid = {\"n_estimators\": n_estimators,\n",
    "               \"max_features\": max_features,\n",
    "               \"min_samples_leaf\": min_samples_leaf}\n",
    "\n",
    "classifier_random = RandomizedSearchCV(classifier,\n",
    "                                       param_distributions = random_grid,\n",
    "                                       n_iter = 100,\n",
    "                                       cv = 5)\n",
    "classifier_random.fit(X_train, Y_train)\n",
    "result = classifier_random.predict(X_test)\n",
    "\n",
    "result = pd.Series(result, name = \"Exited\")\n",
    "result = result.to_frame()\n",
    "\n",
    "out = pd.concat([test[[\"RowNumber\"]], result], axis = 1)\n",
    "out.to_csv(\"random_forest.csv\")\n",
    "\n",
    "classifier_random.score(X_test, Y_test)"
   ]
  }
 ],
 "metadata": {
  "kernelspec": {
   "display_name": "Python 3",
   "language": "python",
   "name": "python3"
  },
  "language_info": {
   "codemirror_mode": {
    "name": "ipython",
    "version": 3
   },
   "file_extension": ".py",
   "mimetype": "text/x-python",
   "name": "python",
   "nbconvert_exporter": "python",
   "pygments_lexer": "ipython3",
   "version": "3.8.8"
  }
 },
 "nbformat": 4,
 "nbformat_minor": 5
}
