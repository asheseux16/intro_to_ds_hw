{
 "cells": [
  {
   "cell_type": "code",
   "execution_count": 9,
   "id": "facfa916",
   "metadata": {},
   "outputs": [
    {
     "name": "stdout",
     "output_type": "stream",
     "text": [
      "Top 3 movies with the highest rating in 2016:\n",
      "['The Dark Knight', 'Inception', 'Dangal']\n"
     ]
    }
   ],
   "source": [
    "#1-1\n",
    "\n",
    "import pandas as pd\n",
    "\n",
    "movies = pd.read_csv(\"IMDB-Movie-Data.csv\")\n",
    "\n",
    "ans = []\n",
    "\n",
    "for i in range(3):\n",
    "    \n",
    "    if len(ans) == 3:\n",
    "        break\n",
    "\n",
    "    ans.extend(movies.loc[movies[\"Rating\"] == movies[\"Rating\"].max(), \"Title\"].tolist())      #找出rating最高的電影名稱，加到ans裡\n",
    "    movies = movies.drop(movies.index[movies[\"Rating\"] == movies[\"Rating\"].max()], axis = 0)  #把rating最高的電影的row剔除\n",
    "\n",
    "\n",
    "print(\"Top 3 movies with the highest rating in 2016:\")\n",
    "print(ans)"
   ]
  },
  {
   "cell_type": "code",
   "execution_count": 10,
   "id": "9be03f62",
   "metadata": {
    "scrolled": false
   },
   "outputs": [
    {
     "name": "stdout",
     "output_type": "stream",
     "text": [
      "The actor generating the highest average revenue: \n",
      "Daisy Ridley\n"
     ]
    }
   ],
   "source": [
    "#1-2 #跑得很慢\n",
    "\n",
    "import pandas as pd\n",
    "\n",
    "movies = pd.read_csv(\"IMDB-Movie-Data.csv\")\n",
    "\n",
    "movies[\"Actors\"] = movies[\"Actors\"].str.split(\"|\", expand = False)              #把Actors欄位的值拆成一個list，儲存四位演員\n",
    "\n",
    "\n",
    "for i in range(len(movies)):                                                    #剔除空格\n",
    "    for j in range(len(movies[\"Actors\"][i])):\n",
    "        movies[\"Actors\"][i][j] = movies[\"Actors\"][i][j].strip()                                      \n",
    "\n",
    "\n",
    "actorsList = []\n",
    "\n",
    "for i in range(len(movies)):                                                    #把演員不重複的加到actorsList裡       \n",
    "    for j in range(len(movies[\"Actors\"][i])):\n",
    "        if movies[\"Actors\"][i][j] not in actorsList:\n",
    "            actorsList.append(movies[\"Actors\"][i][j])\n",
    "\n",
    "movies[\"Revenue (Millions)\"] = movies[\"Revenue (Millions)\"].fillna(0)           #把空值用0填補\n",
    "\n",
    "\n",
    "totalRev = [0] * len(actorsList)\n",
    "avgRev = [0] * len(actorsList)\n",
    "    \n",
    "for i in range(len(actorsList)):                                                #找出演員演過的電影，加總revenue，再除以電影數量\n",
    "    counter = 0\n",
    "    for m in range(len(movies)):\n",
    "        if actorsList[i] in movies[\"Actors\"][m]:\n",
    "            totalRev[i] += (movies.loc[m, \"Revenue (Millions)\"])\n",
    "            counter += 1\n",
    "    avgRev[i] = totalRev[i] / counter\n",
    "    \n",
    "\n",
    "print(\"The actor generating the highest average revenue: \")\n",
    "print(actorsList[avgRev.index(max(avgRev))])"
   ]
  },
  {
   "cell_type": "code",
   "execution_count": 11,
   "id": "f81154b9",
   "metadata": {},
   "outputs": [
    {
     "name": "stdout",
     "output_type": "stream",
     "text": [
      "The average rating of Emma Watson’s movies:  7.175\n"
     ]
    }
   ],
   "source": [
    "#1-3\n",
    "\n",
    "import pandas as pd\n",
    "import numpy as np\n",
    "\n",
    "movies = pd.read_csv(\"IMDB-Movie-Data.csv\")\n",
    "\n",
    "actorsNew = movies[\"Actors\"].str.split(\"|\", expand = True)                            #把Actors欄位拆成四欄，分別存一位演員\n",
    "\n",
    "for i in range(4):\n",
    "    actorsNew[i] = actorsNew[i].str.strip()                                           #剔除空格\n",
    "\n",
    "ans = []   \n",
    "    \n",
    "for i in range(4):                                                                   #把Emma Watson演過的電影的rating加到ans裡\n",
    "    ans.extend(movies.loc[actorsNew[i] == \"Emma Watson\", \"Rating\"].tolist())\n",
    "\n",
    "\n",
    "print(\"The average rating of Emma Watson’s movies: \", np.mean(ans))                  #算出平均"
   ]
  },
  {
   "cell_type": "code",
   "execution_count": 12,
   "id": "3489359b",
   "metadata": {
    "scrolled": false
   },
   "outputs": [
    {
     "name": "stdout",
     "output_type": "stream",
     "text": [
      "Top‐3 directors who collaborate with the most actors: \n",
      "['Ridley Scott', 'M. Night Shyamalan', 'Danny Boyle', 'Paul W.S. Anderson']\n"
     ]
    }
   ],
   "source": [
    "#1-4\n",
    "\n",
    "import pandas as pd\n",
    "\n",
    "movies = pd.read_csv(\"IMDB-Movie-Data.csv\")\n",
    "\n",
    "directorsNew = movies[\"Director\"].drop_duplicates(keep = \"first\")\n",
    "directorsNew = directorsNew.tolist()\n",
    "#print(directorsNew)\n",
    "\n",
    "movies[\"Actors\"] = movies[\"Actors\"].str.split(\"|\", expand = False)              #把Actors欄位的值拆成一個list，儲存四位演員\n",
    "\n",
    "for i in range(len(movies)):                                                    #剔除空格\n",
    "    for j in range(len(movies[\"Actors\"][i])):\n",
    "        movies[\"Actors\"][i][j] = movies[\"Actors\"][i][j].strip()\n",
    "        \n",
    "\n",
    "numbersList = []\n",
    "collab = [[] for i in range(len(directorsNew))]\n",
    "collabNew = [[] for i in range(len(directorsNew))]\n",
    "\n",
    "for i in range(len(directorsNew)):                                             #找出導演合作過的演員\n",
    "    collab[i].extend(movies.loc[movies[\"Director\"] == directorsNew[i], \"Actors\"].tolist())\n",
    "\n",
    "\n",
    "for i in range(len(collab)):                                                   #把重複的演員刪掉\n",
    "    for j in range(len(collab[i])):\n",
    "        for k in range(len(collab[i][j])):\n",
    "            if collab[i][j][k] not in collabNew[i]:\n",
    "                collabNew[i].append(collab[i][j][k])\n",
    "\n",
    "for i in range(len(collabNew)):                                               #把list轉成series\n",
    "    collabNew[i] = pd.Series(collabNew[i])\n",
    "\n",
    "for i in range(len(collabNew)):                                               #計算演員個數\n",
    "    numbersList.append(collabNew[i].count())\n",
    "\n",
    "numbers = pd.Series(numbersList)\n",
    "directorsNew = pd.Series(directorsNew)\n",
    "directorsNew = directorsNew.reindex()\n",
    "\n",
    "final = pd.concat([directorsNew, numbers], axis = 1)                         #把導演名單和合作演員名單合併成dataframe\n",
    "\n",
    "ans = []\n",
    "\n",
    "for i in range(3):                                                          #找出合作演員數量最多的導演\n",
    "    ans.extend(final.loc[final[1] == final[1].max(), 0].tolist())\n",
    "    final = final.drop(final[final[1] == final[1].max()].index.tolist())\n",
    "\n",
    "print(\"Top‐3 directors who collaborate with the most actors: \")\n",
    "print(ans)"
   ]
  },
  {
   "cell_type": "code",
   "execution_count": 13,
   "id": "8bfdb4e9",
   "metadata": {},
   "outputs": [
    {
     "name": "stdout",
     "output_type": "stream",
     "text": [
      "Top 2 actors playing in the most genres of movies: \n",
      "['Brad Pitt', 'Hugh Jackman', 'Scarlett Johansson', 'Amy Adams', 'Chloe Grace Moretz', 'Johnny Depp']\n"
     ]
    }
   ],
   "source": [
    "#1-5 \n",
    "\n",
    "import pandas as pd\n",
    "\n",
    "movies = pd.read_csv(\"IMDB-Movie-Data.csv\")\n",
    "\n",
    "movies[\"Actors\"] = movies[\"Actors\"].str.split(\"|\", expand = False)             #把Actors欄位的值拆成一個list，儲存四位演員\n",
    "\n",
    "for i in range(len(movies)):                                                   #剔除空格\n",
    "    for j in range(len(movies[\"Actors\"][i])):\n",
    "        movies[\"Actors\"][i][j] = movies[\"Actors\"][i][j].strip()\n",
    "        \n",
    "movies[\"Genre\"] = movies[\"Genre\"].str.split(\"|\", expand = False)               #把Genre欄位的值拆成一個list\n",
    "\n",
    "actors = []\n",
    "\n",
    "for i in range(len(movies[\"Actors\"])):                                         #建立清單不重複的儲存所有的actor\n",
    "    for j in range(len(movies[\"Actors\"][i])):\n",
    "        if movies[\"Actors\"][i][j] not in actors:\n",
    "            actors.append(movies[\"Actors\"][i][j])\n",
    "actors = pd.Series(actors)                                                     #轉成series\n",
    "\n",
    "\n",
    "played = [[] for i in range(len(actors))]\n",
    "\n",
    "for i in range(len(actors)):                                                   #把演員演過的電影類型加入played\n",
    "    for j in range(len(movies[\"Actors\"])):                                         \n",
    "        if actors[i] in movies[\"Actors\"][j]:\n",
    "            for k in range(len(movies[\"Genre\"][j])):\n",
    "                played[i].append(movies.loc[j][\"Genre\"][k])\n",
    "\n",
    "playedNew = [[] for i in range(len(played))]\n",
    "\n",
    "for i in range(len(played)):                                                  #把電影類型不重複的加入playedNew\n",
    "    for j in range(len(played[i])):\n",
    "        if played[i][j] not in playedNew[i]:\n",
    "            playedNew[i].append(played[i][j])\n",
    "            \n",
    "\n",
    "ans = []\n",
    "numbers = []\n",
    "\n",
    "for i in range(len(playedNew)):                                               #找出演員演過的電影類型數量\n",
    "    numbers.append(len(playedNew[i]))\n",
    "numbers = pd.Series(numbers)                                                  #轉成series\n",
    "\n",
    "final = pd.concat([actors, numbers], axis = 1)                                #把演員和電影類型數量合併成dataframe\n",
    "\n",
    "for i in range(2):                                                            #找出演過電影類型最多的演員\n",
    "    ans.extend(final.loc[final[1] == final[1].max(), 0].tolist())\n",
    "    final = final.drop(final[final[1] == final[1].max()].index.tolist())\n",
    "\n",
    "print(\"Top 2 actors playing in the most genres of movies: \")\n",
    "print(ans)"
   ]
  },
  {
   "cell_type": "code",
   "execution_count": 14,
   "id": "0264699c",
   "metadata": {
    "scrolled": true
   },
   "outputs": [
    {
     "name": "stdout",
     "output_type": "stream",
     "text": [
      "Top 3 actors whose movies lead to the largest maximum gap of years: \n",
      "['Christian Bale', 'Anne Hathaway', 'Hugh Jackman', 'Scarlett Johansson', 'Matt Damon', 'Mark Wahlberg', 'Brad Pitt', 'Christopher Plummer', 'Tom Hanks', 'Bryce Dallas Howard', 'Chiwetel Ejiofor', 'Ben Kingsley', 'Gerard Butler', 'Eva Green', 'Judi Dench', 'Will Smith', 'Jennifer Connelly', 'Tom Cruise', 'Emily Blunt', 'Kevin Spacey', 'Samuel L. Jackson', 'Steve Carell', 'Edward Norton', 'Will Ferrell', 'Denzel Washington', 'Russell Crowe', 'Toni Collette', 'Meryl Streep', 'Morgan Freeman', 'Dominic West', 'Owen Wilson', 'Michelle Monaghan', 'Jessica Biel', 'Dustin Hoffman', 'Ben Whishaw', 'Paula Patton', 'Abbie Cornish', 'Johnny Depp', 'Jack Davenport', 'Rachel Weisz', 'Ellen Burstyn', 'Kang-ho Song', 'Jeremy Irons', 'Marion Cotillard', 'Kirsten Dunst', 'Jennifer Aniston', 'Justin Theroux', 'Maya Rudolph', 'Kate Bosworth', 'Audrey Tautou', 'Luke Wilson', 'Sacha Baron Cohen', 'Bob Balaban']\n"
     ]
    }
   ],
   "source": [
    "#1-6 #跑得很慢\n",
    "\n",
    "import pandas as pd\n",
    "\n",
    "movies = pd.read_csv(\"IMDB-Movie-Data.csv\")\n",
    "\n",
    "movies[\"Actors\"] = movies[\"Actors\"].str.split(\"|\", expand = False)             #把Actors欄位的值拆成一個list，儲存四位演員\n",
    "\n",
    "for i in range(len(movies)):                                                   #剔除空格\n",
    "    for j in range(len(movies[\"Actors\"][i])):\n",
    "        movies[\"Actors\"][i][j] = movies[\"Actors\"][i][j].strip()\n",
    "        \n",
    "\n",
    "actors = []\n",
    "\n",
    "for i in range(len(movies[\"Actors\"])):                                         #建立清單不重複的儲存所有的actor\n",
    "    for j in range(len(movies[\"Actors\"][i])):\n",
    "        if movies[\"Actors\"][i][j] not in actors:\n",
    "            actors.append(movies[\"Actors\"][i][j])\n",
    "actors = pd.Series(actors)                                                     #轉成series\n",
    "\n",
    "years = [[] for i in range(len(actors))]\n",
    "\n",
    "for i in range(len(actors)):                                                   #把演員出演過的年份加到years\n",
    "    for j in range(len(movies[\"Actors\"])):\n",
    "        if actors[i] in movies[\"Actors\"][j]:\n",
    "            years[i].append(movies[\"Year\"][j])\n",
    "#years\n",
    "\n",
    "gap = [[] for i in range(len(years))]\n",
    "\n",
    "for i in range(len(years)):                                                   #計算每個演員的gap of years\n",
    "    gap[i] = max(years[i]) - min(years[i])\n",
    "gap = pd.Series(gap)                                                          #轉成series\n",
    "\n",
    "final = pd.concat([actors, gap], axis = 1)                                    #把演員和對應的gap of years合併成dataframe\n",
    "\n",
    "\n",
    "ans = []\n",
    "\n",
    "ans.extend(final.loc[final[1] == final[1].max(), 0])                          #找出有最大gap of years的演員\n",
    "\n",
    "print(\"Top 3 actors whose movies lead to the largest maximum gap of years: \")\n",
    "print(ans)"
   ]
  },
  {
   "cell_type": "code",
   "execution_count": 15,
   "id": "b03516a9",
   "metadata": {
    "scrolled": false
   },
   "outputs": [
    {
     "name": "stdout",
     "output_type": "stream",
     "text": [
      "All actors who have collaborated with Johnny Depp in direct or indirect ways: \n",
      "['Helena Bonham Carter', 'Alan Rickman', 'Timothy Spall', 'Orlando Bloom', 'Keira Knightley', 'Jack Davenport', 'Geoffrey Rush', 'Christian Bale', 'Christian Stolte', 'Jason Clarke', 'Benedict Cumberbatch', 'Dakota Johnson', 'Joel Edgerton', 'Penelope Cruz', 'Ian McShane', 'Mia Wasikowska', 'Anne Hathaway', 'Armie Hammer', 'William Fichtner', 'Tom Wilkinson', 'Rebecca Hall', 'Morgan Freeman', 'Cillian Murphy', 'Michelle Pfeiffer', 'Eva Green', 'Lily-Rose Depp', 'Harley Quinn Smith', 'Adam Brody', 'Colin Firth', 'Derek Jacobi', 'Lily James', 'Cate Blanchett', 'Richard Madden', 'Taron Egerton', 'Samuel L. Jackson', 'Michael Caine', 'Gary Oldman', 'Tom Hardy', 'Mark Strong', 'Jude Law', 'Nicole Kidman', 'Laura Linney', 'Reese Witherspoon', 'Alessandro Nivola', 'James Hamrick', 'Hugh Jackman', 'Tom Costello', 'Jo Hartley', 'Emily Browning', 'Paul Anderson', 'Scarlett Johansson', 'Jake Gyllenhaal', 'Viola Davis', 'Melissa Leo', 'Patrick Stewart', 'Ian McKellen', 'James McAvoy', 'Russell Crowe', 'Amanda Seyfried', 'Rachel Weisz', 'Sean Patrick Thomas', 'Ellen Burstyn', 'Evangeline Lilly', 'Dakota Goyo', 'Anthony Mackie', 'Sharlto Copley', 'Dev Patel', 'Sigourney Weaver', 'Liev Schreiber', 'Ryan Reynolds', 'Danny Huston', 'Will Yun Lee', 'Tao Okamoto', 'Rila Fukushima', 'Halle Berry', 'Famke Janssen', 'Shea Adams', 'Eddie Baroo', 'Elijah Wood', 'Brittany Murphy', 'Robin Williams', 'Levi Miller', 'Garrett Hedlund', 'Rooney Mara', 'Robert Downey Jr.', 'Chris Evans', 'Jeremy Renner', 'Joaquin Phoenix', 'Amy Adams', 'Sebastian Stan', 'Robert Redford', 'Jon Favreau', 'Dustin Hoffman', 'Matthew McConaughey', 'Seth MacFarlane', 'Javier Bardem', 'Christopher Evan Welch', 'Natalie Portman', 'Eric Bana', 'Jim Sturgess', 'Joseph Gordon-Levitt', 'Julianne Moore', 'Tony Danza', 'Min-sik Choi', 'Amr Waked', 'Jeremy McWilliams', 'Lynsey Taylor Mackay', 'Dougie McConnell', 'Gwyneth Paltrow', 'Terrence Howard', 'Jeff Bridges', 'Mark Ruffalo', 'Anthony Edwards', 'Rachel McAdams', 'Jared Harris', 'Chris Hemsworth', 'Robert Duvall', 'Vera Farmiga', 'Billy Bob Thornton', 'Guy Pearce', 'Don Cheadle', 'Ben Stiller', 'Jack Black', 'Jeff Kahn', 'Mickey Rourke', 'Matt Damon', 'Kate Winslet', 'Leonardo DiCaprio', 'Jack Nicholson', 'Mark Wahlberg', 'Edgar Ramirez', 'Joan Allen', 'Julia Stiles', 'Jessica Chastain', 'Kristen Wiig', 'Kate Mara', 'Hailee Steinfeld', 'Josh Brolin', 'Emily Blunt', 'Lisa Thoreson', 'Florence Kastriner', 'George Clooney', 'Brad Pitt', 'Michael Mantell', 'Tommy Lee Jones', 'Alicia Vikander', 'Vincent Cassel', 'Jodie Foster', 'Alice Braga', 'Tian Jing', 'Willem Dafoe', 'Andy Lau', 'Ellen Page', 'Ken Watanabe', 'Jamie Foxx', 'Christoph Waltz', 'Kerry Washington', 'Jonah Hill', 'Margot Robbie', 'Emily Mortimer', 'Ben Kingsley', 'Will Poulter', 'Domhnall Gleeson', 'Djimon Hounsou', 'Jennifer Connelly', 'Kagiso Kuypers', 'Carey Mulligan', 'Tobey Maguire', 'Christopher Fitzgerald', 'Jonathan Roumie', 'Golshifteh Farahani', 'Michael Cera', 'Jennifer Garner', 'Jason Bateman', 'Rainn Wilson', 'Liv Tyler', 'Kevin Bacon', 'Woody Allen', 'Jesse Eisenberg', 'Evan Rachel Wood', 'Max Minghella', 'Callum Keith Rennie', 'Christopher Mintz-Plasse', 'Bill Hader', 'Mary Elizabeth Winstead', 'Kieran Culkin', 'Alison Pill', 'Jay Baruchel', 'Gerard Butler', 'Craig Ferguson', 'Aaron Taylor-Johnson', 'Chloe Grace Moretz', 'Jim Carrey', 'Anna Kendrick', 'Justin Timberlake', 'Zooey Deschanel', 'James Franco', 'Seth Rogen', 'Alice Eve', 'T.J. Miller', 'Mike Vogel', 'Andy Serkis', 'Freida Pinto', 'Karin Konoval', 'Amber Tamblyn', 'Sean Bott', 'Gary Cole', 'Danny McBride', 'Randall Park', 'Lizzy Caplan', 'Zoey Deutch', 'Tangie Ambrose', 'Cedric the Entertainer', 'Michelle Williams', 'Mila Kunis', 'Nat Wolff', \"Vincent D'Onofrio\", 'Selena Gomez', 'Rasmus Hardiker', 'Martin Freeman', 'Richard Armitage', 'Keri Russell', 'Kodi Smit-McPhee', 'Simon Pegg', 'Nick Frost', 'Bill Nighy', 'Ken Stott', 'Rosamund Pike', 'Tina Fey', 'Alfred Molina', 'Chris Pine', 'Zachary Quinto', 'Leonard Nimoy', 'Tom Cruise', 'Rebecca Ferguson', 'Paula Patton', 'Mia Stallard', 'Kate Beckinsale', 'Sanjeev Bhaskar', 'Rob Riggle', 'Zoe Saldana', 'Ben Foster', 'Gil Birmingham', 'Karl Urban', 'Casey Affleck', 'Denzel Washington', 'Rosario Dawson', 'Ethan Suplee', 'Til Schweiger', 'Kevin Costner', 'Kenneth Branagh', 'Meryl Streep', 'Chris Pratt', 'Vin Diesel', 'Bradley Cooper', 'Sam Worthington', 'Michelle Rodriguez', 'Diego Luna', 'Channing Tatum', 'Ron Perlman', 'Woody Harrelson', 'Will Ferrell', 'Elizabeth Banks', 'Will Arnett', 'Jennifer Lawrence', 'Michael Sheen', 'Laurence Fishburne', 'Bryce Dallas Howard', 'Ty Simpkins', 'Judy Greer', 'Ethan Hawke', 'Jenna Dewan Tatum', 'John C. Reilly', 'Mary Steenburgen', 'Richard Jenkins', 'Derek Jeter', 'Eva Mendes', 'Sacha Baron Cohen', 'Linda Cardellini', 'Thomas Haden Church', 'Kevin Hart', 'Alison Brie', 'T.I.', 'Owen Wilson', 'Jack McBrayer', 'Jane Lynch', 'Sarah Silverman', 'Tilda Swinton', 'Ezra Miller', 'Jasper Newell', 'Anna Faris', 'Salma Hayek', 'Toby Jones', 'Andy Samberg', 'Jorma Taccone', 'Akiva Schaffer', 'Katie Crown', 'Kelsey Grammer', 'Jennifer Aniston', 'Adam Sandler', 'Kevin James', 'Jason Sudeikis', 'Emma Roberts', 'Ed Helms', 'Brooklyn Decker', 'Morgan Lily', 'Trenton Rogers', 'Charlie Day', 'Olivia Munn', 'Vince Vaughn', 'Joey Lauren Adams', 'Kate Hudson', 'Julia Roberts', 'Steve Wiebe', 'Jordan Carlos', 'Margarita Levieva', 'Austin Stowell', 'Tim Blake Nelson', 'Josh Gad', 'Maya Rudolph', 'Kristen Bell', 'Idina Menzel', 'Jonathan Groff', 'Jason Segel', 'Paul Rudd', 'Kathryn Hahn', 'Christina Applegate', 'Melissa McCarthy', 'Peter Dinklage', 'Ella Anderson', 'Steve Carell', 'Russell Brand', 'Julie Andrews', 'Cameron Diaz', 'Rob Corddry', 'Ellie Kemper', 'Ryan Gosling', 'Toni Collette', 'Greg Kinnear', 'Abigail Breslin', 'Emma Stone', 'Benjamin Bratt', 'Miranda Cosgrove', 'Kristen Stewart', 'Blake Lively', 'Ed Oxenbould', 'Dylan Minnette', 'Rosemarie DeWitt', 'J.K. Simmons', 'Bryan Cranston', 'Albert Brooks', 'Angourie Rice', 'Matt Bomer', 'John Doman', 'Faith Wladyka', 'Craig Van Hook', 'Anthony Hopkins', 'David Strathairn', 'Sean Penn', 'Giovanni Ribisi', 'Kirsten Dunst', 'Frank Langella', 'Lily Rabe', 'Miles Teller', 'Melissa Benoist', 'Paul Reiser', 'Michelle Monaghan', 'John Goodman', 'Ben Affleck', 'Jon Bernthal', 'Luke Wilson', 'Eddie Izzard', 'Lewis Black', 'Steve Lantz', 'Gregg Weiner', 'Shailene Woodley', 'Kyle Chandler', 'Jennifer Jason Leigh', 'Aaron Eckhart', 'Katey Sagal', 'Ciaran Hinds', 'Zac Efron', 'Michael B. Jordan', 'Imogen Poots', 'Jamie Bell', 'Ansel Elgort', 'Laura Dern', 'Amara Miller', 'Nick Krause', 'Theo James', 'Jai Courtney', 'Jeff Daniels', 'Naomi Watts', 'Gaby Hoffmann', 'Michiel Huisman', 'Jeremy Irons', 'Justin Theroux', 'Karolina Gruszka', 'Harrison Ford', 'Kathy Baker', 'Logan Marshall-Green', 'Emayatzy Corinealdi', 'Tammy Blanchard', 'Chadwick Boseman', 'T.R. Knight', 'Nicole Beharie', 'Asa Butterfield', 'Shia LaBeouf', 'Karen Allen', 'Brenton Thwaites', 'Nikolaj Coster-Waldau', 'Taylor Swift', 'Karen Gillan', 'Katee Sackhoff', 'Rory Cochrane', 'Jordi Moll?', 'Megan Charpentier', 'Isabelle Nelisse', 'Leslie Mann', 'Kate Upton', 'Katherine Heigl', 'Matthew Perry', 'Thomas Lennon', 'Maude Apatow', 'Iris Apatow', 'Rebel Wilson', 'Robert De Niro', 'Danny DeVito', 'Edie Falco', 'Josh Duhamel', 'Josh Lucas', 'Alexis Clagett', 'Bree Turner', 'Eric Winter', 'Megan Fox', 'Tyrese Gibson', 'Julianne Hough', 'Cobie Smulders', 'David Lyons', 'Rosie Huntington-Whiteley', 'Tyler Perry', 'Noel Fisher', 'Johnny Simmons', 'Neil Patrick Harris', 'Gabriel Luna', 'Clifton Collins Jr.', 'David Acord', 'Callan McAuliffe', 'Lorraine Nicholson', 'Daniel Eric Gold', 'Jason Statham', 'Paul Walker', 'Dwayne Johnson', 'Rose Byrne', 'Sylvester Stallone', 'Jet Li', 'Dolph Lundgren', 'Antonio Banderas', 'Jessica Alba', 'Michelle Yeoh', 'Jordana Brewster', \"Auli'i Cravalho\", 'Rachel House', 'Temuera Morrison', 'Tony Shalhoub', 'Maggie Grace', 'Mauricio Lopez', 'Danielle Nicolet', 'Amy Ryan', 'Carla Gugino', 'Alexandra Daddario', 'Colton Haynes', 'John Hurt', 'Joseph Fiennes', 'Adrianne Palicki', 'Byung-hun Lee', 'Sam Neill', 'Julian Dennison', 'Rima Te Wiata', 'Nicholas Hope', 'Ewen Leslie', 'Rachael Blake', 'Bridgette Barrett', 'Anthony LaPaglia', 'Liam Neeson', 'Leland Orser', 'Benjamin Walker', 'Teresa Palmer', 'Forest Whitaker', 'Andrew Garfield', 'Adam Driver', 'Tadanobu Asano', 'Diane Kruger', 'January Jones', 'Aidan Quinn', 'Jessica Biel', 'Dan Stevens', 'David Harbour', 'Boyd Holbrook', 'Charlize Theron', 'Alexander Skarsgard', 'Rihanna', 'Ralph Fiennes', 'Jason Flemyng', 'Luke Bracey', 'Rhys Ifans', 'Irrfan Khan', 'Christopher Plummer', 'Lily Cole', 'Heath Ledger', 'Paul Giamatti', 'James Marsden', 'Liana Liberato', 'Ray Winstone', 'Susan Sarandon', 'Patrick Dempsey', 'Wentworth Miller', 'Eric Stonestreet', 'Brandon Routh', 'Kevin Spacey', 'Kate Bosworth', 'Saoirse Ronan', 'Brenda Blethyn', 'Emory Cohen', 'Jim Broadbent', 'Vicky Krieps', 'Max Irons', 'Jake Abel', 'Tye Sheridan', 'Bel Powley', 'Stephen Moyer', 'Emile Hirsch', 'Zoe Kravitz', 'Billy Crudup', 'Olivia Thirlby', 'Logan Miller', 'Joey Morgan', 'Sarah Dumont', 'Annette Bening', 'Elle Fanning', 'Greta Gerwig', 'Peter Sarsgaard', 'AJ Michalka', 'Joel Courtney', 'Angelina Jolie', 'Lesley Manville', 'Dane DeHaan', 'Carly Rae Jepsen', 'Maddie Ziegler', 'Brendan Gleeson', 'Chris Messina', 'Christina Hendricks', 'Keanu Reeves', 'Karl Glusman', 'Colm Feore', 'Gattlin Griffith', 'Terence Stamp', 'Chiwetel Ejiofor', 'Daniel Olbrychski', 'Crispin Glover', 'Robin Wright', 'Michael Kenneth Williams', 'Michael Fassbender', 'Clive Owen', 'Benedict Wong', 'Aaron Paul', 'Thandie Newton', 'Anika Noni Rose', 'Joseph Mawle', 'Dean Norris', 'John Cusack', 'Amanda Peet', 'Su Elliot', 'Florence Clery', 'James Badge Dale', 'Lucy Walters', 'Nicholas Hoult', 'Noomi Rapace', 'Marion Cotillard', 'Jack Madigan', 'Frank Madigan', 'Dominic West', 'Olga Kurylenko', 'Andreas Wisniewski', 'John Krasinski', 'Pablo Schreiber', 'David Denman', 'Mireille Enos', 'Daniella Kertesz', 'Bruce Greenwood', 'Max Martini', 'Jaden Smith', 'Will Smith', 'Sophie Okonedo', 'Brian Howe', 'Jackie Chan', 'Taraji P. Henson', 'Wenwen Han', 'Octavia Spencer', 'Janelle Monae', 'Michael Ealy', 'Charlie Tahan', 'Salli Richardson-Whitfield', 'Alec Baldwin', 'David Morse', 'Edward Norton', 'Michael Pena', 'Jemaine Clement', 'Rodrigo Santoro', 'Adrian Martinez', 'Jae Head', 'Jared Leto', 'India Eisley', 'Stephen Rea', 'Sally Hawkins', 'Diego Boneta', 'Diane Lane', 'Arnaud Viard', 'Linda Gegusch', 'Kari Matchett', 'Zachary Bennett', 'Henry Cavill', 'Michael Shannon', 'Elizabeth Debicki', 'Stephen Dorff', 'Carrie-Anne Moss', 'Sarah Roemer', 'Richard Gere', 'Cary-Hiroyuki Tagawa', 'Lior Ashkenazi', 'Charlotte Gainsbourg', 'Stephen Merchant', 'Marton Csokas', 'Kati Outinen', 'Kiefer Sutherland', 'Stellan Skarsgard', 'Stacy Martin', 'Storm Acheche Sahlstrom', 'Chris Isaak', 'C.H. Evans', 'Sandra Kinder', 'Kit Harington', 'Adewale Akinnuoye-Agbaje', 'Dakota Fanning', 'Carice van Houten', 'Teri Hatcher', 'John Hodgman', 'Jennifer Saunders', 'Ewan McGregor', 'Peter Riegert', 'Tom Holland', 'Oaklee Pendergast', 'Pierce Brosnan', 'Olivia Williams', 'Charlie Hunnam', 'Robert Pattinson', 'Sienna Miller', 'Idris Elba', 'Rinko Kikuchi', 'Tom Hiddleston', 'Ginnifer Goodwin', 'Jenny Slate', 'Neel Sethi', 'Bill Murray', 'Charlotte Le Bon', 'Kelly Reilly', 'Jasmine Trinca', 'Jared Gilman', 'Kara Hayward', 'Bruce Willis', 'Jason Schwartzman', 'Paul Dano', 'Justin Long', 'Timothy Olyphant', 'Maggie Q', 'Helen Mirren', 'Mary-Louise Parker', 'Daniel Day-Lewis', 'Martin Stringer', 'Daniel Radcliffe', 'Antonia Ribero', 'Sally Field', 'Max Greenfield', 'Tyne Daly', 'Wendi McLendon-Covey', 'Drew Barrymore', 'Kevin Nealon', 'Emma Watson', 'Rupert Grint', 'Michael Gambon', 'Zoe Kazan', 'Megan Park', 'Tracy Letts', 'Sam Trammell', 'Juno Temple', 'Joe Anderson', 'Jessica Brown Findlay', 'Andrew Scott', 'Logan Lerman', 'Daniel Bruhl', 'Michael Nyqvist', 'Richenda Carey', 'David Thewlis', 'Dale Dickey', 'Sarah Gadon', 'Tijuana Ricks', 'Sue Dahlman', 'Kevin McKidd', 'Steve Coogan', 'Brandon T. Jackson', 'Nathan Fillion', 'Matthew Macfadyen', 'Ray Stevenson', 'Milla Jovovich', 'Melanie Laurent', 'Isabella Rossellini', 'Luke Evans', 'Dominic Cooper', 'Art Parkinson', 'Jamie Dornan', 'Aiden Longworth', 'Eli Roth', 'Travis Fimmel', 'Scott Mescudi', \"Jason O'Mara\", 'Michael McElhatton', 'Brian Caspe', 'Karel Hermanek Jr.', 'Jennifer Ehle', 'Eloise Mumford', \"Beverly D'Angelo\", 'Brian Cox', 'Ophelia Lovibond', 'Cynthia Nixon', 'Duncan Duff', 'Keith Carradine', 'Sarah Jessica Parker', 'Kim Cattrall', 'Kristin Davis', 'Michael Rooker', 'Don Thompson', 'Max von Sydow', 'Ali Larter', 'Kim Coates', 'Iain Glen', 'Shawn Roberts', 'Sienna Guillory', 'Aryana Engineer', 'Mark Chao', 'Ni Ni', 'Dave Bautista', 'Alain Moussi', 'Gina Carano', 'Jean-Claude Van Damme', 'Liam Hemsworth', 'Randy Couture', 'Josh Hutcherson', 'Philip Seymour Hoffman', 'Stanley Tucci', 'Judy Davis', 'Hugo Weaving', 'Jeff Goldblum', 'Bill Pullman', 'Maika Monroe', 'AnnaSophia Robb', 'Robert Patrick', 'Isabel Lucas', 'Josh Peck', 'Gabriella Wilde', 'Alex Pettyfer', 'Portia Doubleday', 'Dianna Agron', \"John D'Leo\", 'Jesse Plemons', 'Ving Rhames', 'Elisabeth Shue', \"Jerry O'Connell\", 'Richard Dreyfuss', 'Patrick Wilson', 'Lena Headey', 'Jackie Earle Haley', 'Malin Akerman', 'Ron Livingston', 'Lili Taylor', 'Madison Wolfe', \"Frances O'Connor\", 'Kurt Russell', 'Matthew Fox', 'Lin Shaye', 'Haley Bennett', 'Vincent Kartheiser', 'Jerry Stiller', 'Oliver Platt', 'Kerry Bishe', 'Charlie Heaton', 'Jacob Tremblay', 'Brie Larson', 'Sean Bridgers', 'Wendy Crewson', 'Thomas Jane', 'Annabeth Gish', 'Ice Cube', 'Amy Schumer', 'Colin Quinn', 'Jessica Lange', 'Nick Offerman', 'Regina Hall', 'Anthony Anderson', 'Eve', 'Thomas Mann', 'RJ Cyler', 'Olivia Cooke', 'Michael Keaton', 'John Carroll Lynch', 'Nick Robinson', 'Gabriel Basso', 'Moises Arias', 'Oliver Cooper', 'Jonathan Daniel Brown', 'Dax Flame', 'Zach Galifianakis', 'Andrea Riseborough', 'Sandra Bullock', 'Jon Hamm', 'Pierre Coffin', 'Joel Kinnaman', 'Abbie Cornish', 'Justin Bartha', 'Isla Fisher', 'Gal Gadot', 'Ross Kimball', 'Morgan Saylor', 'Brian Marc', 'Essie Davis', 'Julian Barratt', 'Noah Wiseman', 'Daniel Henshall', 'Hayley McElhinney', 'Ed Harris', 'Orto Ignatiussen', 'Quinton Aaron', 'Tim McGraw', 'Craig T. Nelson', 'Michael McDonald', 'Demian Bichir', 'Gabriel Chavarria', 'Theo Rossi', 'Tony Revolori', 'Shameik Moore', 'Kiersey Clemons', 'Kimberly Elise', 'Anna Friel', 'Albert Finney', 'Jeffrey Dean Morgan', 'Colin Farrell', 'Vanessa Hudgens', 'Jena Malone', 'Dermot Mulroney', 'Diego Klattenhoff', 'Elizabeth Berrington', 'Emma Thompson', 'Tom Hanks', 'Annie Rose Buckley', 'Sam Rockwell', 'Christopher Walken', 'Jessica Barden', 'Olivia Colman', 'Bokeem Woodbine', 'Kelly Macdonald', 'Billy Connolly', 'Julie Walters', 'Alice Englert', 'Alden Ehrenreich', 'Tim Allen', 'Joan Cusack', 'Ned Beatty', 'Barkhad Abdi', 'Barkhad Abdirahman', 'Catherine Keener', 'Mark Rylance', 'Alan Alda', 'Valerie Mahaffey', 'Hugh Grant', 'Audrey Tautou', 'Jean Reno', 'Felicity Jones', 'Sarita Choudhury', 'Ben Whishaw', 'Alexander Black', 'Marcia Gay Harden', 'Laurie Holden', 'Andre Braugher', 'Radha Mitchell', 'Sean Bean', 'Deborah Kara Unger', 'Eddie Redmayne', 'Tom Prior', 'Sophie Perry', 'Katherine Waterston', 'Alison Sudol', 'Dan Fogler', 'Amber Heard', 'Topher Grace', 'Adrien Brody', 'F. Murray Abraham', 'Mathieu Amalric', 'Daniel Craig', 'Judi Dench', 'Jeffrey Wright', 'Naomie Harris', 'Lea Seydoux', 'Dakota Blue Richards', 'Ben Walker', 'Bob Balaban', 'Ruth Wilson', 'Paula Prentiss', 'Lucy Boynton', 'Kiernan Shipka', 'Lauren Holly', 'Adele Exarchopoulos', 'Salim Kechiouche', 'Aurelien Recoing', 'Nathalie Baye', 'Sean Faris', 'Cam Gigandet', 'Connie Nielsen', 'Dennis Quaid', 'Antje Traue', 'Kenny Wormald', 'Andie MacDowell', 'Marlon Wayans', 'Matthew Morrison', 'J. Todd Smith', 'Paul Bettany', 'Charles S. Dutton', 'Lucas Black', 'Zachery Ty Bryan', 'Shad Moss', 'Damien Marzette', 'Ruby Barnhill', 'Penelope Wilton', 'Scott Eastwood', 'Britt Robertson', 'Jack Huston', 'Tania Raymonde', 'Trey Songz', 'Eddie Murphy', 'Natascha McElhone', 'Xavier Samuel', \"Dylan O'Brien\", 'Victoria Justice', 'James Frecheville', 'Hugh Laurie', 'Raffey Cassidy', 'Chloe Sevigny', 'Emma Greenwell', 'Taylor Lautner', 'Peter Facinelli', 'Terry Crews', 'Jorge Garcia', 'Dax Shepard', 'Kaya Scodelario', 'Thomas Brodie-Sangster', 'Giancarlo Esposito', 'Gemma Arterton', 'Sam Claflin', 'Sam Riley', 'Bella Heathcote', 'Toby Kebbell', 'Nazanin Boniadi', 'Glenn Close', 'Dominique Tipper', 'Paddy Considine', 'Emilia Clarke', 'Janet McTeer', 'Charles Dance', 'Lily Collins', 'Christian Cooke', 'Jaime Winstone', 'Arnold Schwarzenegger', '50 Cent', 'Jamie Campbell Bower', 'Robert Sheehan', 'Jemima West', 'Taissa Farmiga', 'Steve Tom', 'Lewis MacDougall', 'Simon Helberg', 'Lambert Wilson', 'Pierre Niney', 'Laurent Lucas', 'Paula Beer', 'Ernst Stotzner', 'Marie Gruber', 'Garance Marillier', 'Ella Rumpf', 'Rabah Nait Oufella', 'Alan Tudyk', 'Donnie Yen', 'Francesc Albiol', 'Dominique McElligott', 'Rosie Shaw', 'Tim Roth', 'James Ransone', 'David Oyelowo', 'Carmen Ejogo', 'Lorraine Toussaint', 'William Hurt', 'Danila Kozlovsky', 'Michael Pitt', 'Brady Corbet', 'Madina Nalwanga', \"Lupita Nyong'o\", 'Martin Kabanza', 'Tom Felton', 'Demi Moore', 'Dane Cook', 'Lucy Fry', 'Gabriel Byrne', 'Steven Yeun', 'Astrid Berges-Frisbey', 'Brit Marling', 'Juliet Rylance', 'Fred Dalton Thompson', 'Ashley Benson', 'Rachel Korine', 'Riley Keough', 'Jessie Ok Gray', 'Cary Joji Fukunaga', 'Sasha Lane', 'McCaul Lombardi', 'Jon Voight', 'Lia Marie Johnson', 'Renee Zellweger', 'Gugu Mbatha-Raw', 'Logan Paul', 'Peyton List', 'Calum Worthy', 'Gemma Jones', 'Sally Phillips', 'Michael Stuhlbarg', 'Mahershala Ali', 'Shariff Earp', 'Duan Sanderson', 'Alex R. Hibbert', 'Nicolas Cage', 'Tom Sizemore', 'Matt Lanter', 'Garrett M. Brown', 'Sam Elliott', 'Matt Long', 'Carmen Electra', 'Vanessa Lachey', 'Nicole Parker', 'Michael Chiklis', 'Peter Stormare', 'Andy Powers', 'Laura Allen', 'Christian Distefano', 'Walton Goggins', 'Rose McGowan', 'Danny Trejo', 'Zoe Bell', 'Douglas M. Griffin', 'James DuMont', 'Vanessa Ferlito', 'Freddy Rodriguez', 'Marley Shelton', 'Jason Momoa', 'Stephen Lang', 'Jane Levy', 'Daniel Zovatto', 'Shiloh Fernandez', 'Jessica Lucas', 'Lou Taylor Pucci', 'Lucas Till', 'Barry Pepper', 'Mel Raido', 'Duncan Joiner', 'John Gallagher Jr.', 'Kate Siegel', 'Michael Trucco', 'Samantha Sloyan', 'Tony Goldwyn', 'Adria Arjona', 'John C. McGinley', 'Natasha Henstridge', 'Lukas Hassel', 'Dominique Swain', 'David Wenham', 'Rachel Wood', 'Sullivan Stapleton', 'Hans Matheson', 'Max Burkholder', 'Adelaide Kane', 'Nicola Peltz', 'Jack Reynor', 'Noah Ringer', 'Jackson Rathbone', 'Ferdia Walsh-Peelo', 'Aidan Gillen', 'Maria Doyle Kennedy', 'Rip Torn', 'Hayley Atwell', 'Keir Gilchrist', 'Olivia Luccardi', 'Lili Sepe', 'Sheila Kelley', 'Joel David Moore', 'Olivia Wilde', 'Alexandra Maria Lara', 'Katie Holmes', 'Riccardo Scamarcio', 'Bruce Boxleitner', 'Ewa Froling', 'Lena Endre', 'Alfie Allen', 'Rupert Friend', \"Zac Mattoon O'Brien\", 'Michael C. Hall', 'Maria Dizzia', 'Dana Fuchs', 'Jeremy Irvine', 'Hermione Corfield', 'Addison Timlin', 'Joely Richardson', \"Fionn O'Shea\", 'Nicholas Galitzine', 'Moe Dunford', 'Michael Parks', 'Haley Joel Osment', 'Genesis Rodriguez', 'Mel Gibson', 'Erin Moriarty', 'Michael Vartan', 'Nadine Velazquez', 'Ronnie Gene Blevins', 'Josh Stewart', 'Bill Engvall', 'Alex Essoe', 'Billy Crystal', 'Steve Buscemi', 'Sam Shepard', 'Guillaume Baillargeon', 'Emilie Leclerc', 'Romain Duris', 'Jalil Lespert', 'Camille Cottin', 'Oscar Isaac', 'Daniel Gimenez Cacho', 'Tom Hughes', 'Oona Chaplin', 'Barry Ward', 'Daisy Ridley', 'John Boyega', 'Sonoya Mizuno', 'Mia Goth', 'Martin McCann', 'Andrew Simpson', 'Jason Isaacs', 'Ivo Nandi', 'Emilie de Ravin', 'Caitlyn Rund', 'Moises Acevedo', 'Billy Burke', 'Sarah Clarke', 'Ted Levine', 'Kathleen Quinlan', 'Dan Byrd', 'Amanda Bynes', 'Penn Badgley', 'Laura Ramsey', 'Vinnie Jones', 'Leslie Bibb', 'Brooke Shields', 'Colm Meaney', 'Gabriel Bateman', 'Maria Bello', 'Brendan Fraser', 'Ben Winchell', 'Josh Brener', 'Andy Garcia', 'Charlie Cox', 'Claire Danes', 'Kyle Gallner', 'Cole Konis', 'Tyler James Williams', 'Tessa Thompson', 'Teyonah Parris', 'Phylicia Rashad', 'Lake Bell', 'Chatchawai Kamonsakpitak', 'Jason Barry', 'Karen Moskow', 'Kai Ryssdal', 'Louis C.K.', 'Rufus Sewell', 'Scott Glenn', 'Hilary Swank', 'Imelda Staunton', 'Harry Connick Jr.', 'Lisa Kudrow', 'America Ferrera', 'Rhona Mitra', 'Danny Glover', 'Steven Mackintosh', 'Taika Waititi', 'Cori Gonzalez-Macuer', 'Jonny Brugh', 'Steve Zahn', 'Sarah Polley', 'Linh Dan Pham', 'Jeremy Davies', 'Zach Grenier', 'Zachary Gordon', 'Robert Capron', 'Devon Bostick', 'Rachael Harris', 'Jamie Blackley', 'Joshua Leonard', 'John Malkovich', 'Analeigh Tipton', 'Vernetta Lopez', 'Scott Lawrence', \"Sofia Black-D'Elia\", 'Travis Tope', 'Michael Kelly', 'James Gandolfini', 'Matthias Schoenaerts', 'Vincent Ebrahim', \"Jack O'Connell\", 'Miyavi', 'Keith David', 'Oprah Winfrey', 'Bruno Campos', 'Jane Fonda', 'Harvey Keitel', 'Mary McCormack', 'Paul Birchard', 'Bill Paxton', 'Rene Russo', 'Riz Ahmed', 'Sophie Nelisse', 'Josh Wiggins', 'Joe Cobden', 'Anders Holm', 'Billie Piper', 'James Floyd', 'Cush Jumbo', 'Luke Kleintank', 'Lauren Graham', 'Lorenza Izzo', 'Ana de Armas', 'Aaron Burns', 'Christopher McDonald', 'Mira Sorvino', 'Ariel Levy', 'Kirby Bliss Blanton', 'Aomi Muyock', 'Klara Kristin', 'Juan Saavedra', 'Isabelle Fuhrman', 'CCH Pounder', 'Taylor Kitsch', 'Lynn Collins', 'Samantha Morton', 'Benicio Del Toro', 'Aaron Yoo', 'Robbie Amell', 'Cheryl Hines', 'Mae Whitman', 'Bella Thorne', 'Allison Janney', 'Suraj Sharma', 'Adil Hussain', 'Tabu', 'Edward Asner', 'Jordan Nagai', 'John Ratzenberger', 'Lois van Wijk', 'Nellie', 'Rizwan Manji', 'John Leguizamo', 'Ray Romano', 'Denis Leary', 'Chris Wedge', 'Ashlyn Sanchez', 'Viggo Mortensen', 'George MacKay', 'Samantha Isler', 'Annalise Basso', 'Armin Mueller-Stahl', 'Josef Altin', 'Elizabeth Reaser', 'Lulu Wilson', 'Henry Thomas', 'Rory J. Saper', 'Christian Stevens', 'Jim Parsons', 'Steve Martin', 'Jennifer Lopez', 'Ryan Guzman', 'Kristin Chenoweth', 'John Corbett', 'Blake Jenner', 'Tyler Hoechlin', 'Haley Lu Richardson', 'Kyra Sedgwick', 'Anya Taylor-Joy', 'Jessica Sula', 'Ralph Ineson', 'Kate Dickie', 'Julian Richings', 'Rose Leslie', 'Michael Yare', '?lafur Darri ?lafsson', 'Nia Vardalos', 'Michael Constantine', 'Lainie Kazan', 'Oona Laurence', 'Oakes Fegley', 'Yoo Gong', 'Kang-ho Song', 'Ji-min Han', 'Soo-an Kim', 'Yu-mi Jung', 'Dong-seok Ma', 'Hee-Bong Byun', 'Hae-il Park', 'Doona Bae', 'Robert Carlyle', 'Harold Perrineau', 'Aasif Mandvi', 'Quvenzhane Wallis', 'Antonio Tarver', 'Milo Ventimiglia', 'Burt Young', 'Julie Benz', 'Matthew Marsden', 'Graham McTavish', 'Elena Anaya', 'Jan Cornet', 'Marisa Paredes', 'Aldis Hodge', 'Robert Knepper', 'Brittany Snow', 'Anna Camp', 'Freddie Crowder', 'Jacki Weaver', 'Usher Raymond', 'Ruben Blades', 'Aubrey Plaza', 'Adam Devine', 'Christopher Lee', 'Malcolm Sinclair', 'Raghuvir Joshi', 'Aidan Turner', 'Tobias Menzies', 'Lara Pulver', 'Chris Cooper', 'Judah Lewis', 'Elisabeth Moss', 'Ryoko Seta', 'Lucas Hedges', 'Sarah Paulson', 'Angela Bassett', 'Taylor Schilling', 'Blythe Danner', 'Riley Thomas Stewart', 'Wes Bentley', 'Emily Ratajkowski', 'Jonny Weston', 'Ari Graynor', 'Logan Huffman', 'Alexander Ludwig', 'Eddie Marsan', 'Anton Yelchin', 'Alia Shawkat', 'Moon Bloodgood', 'Nancy Kwan', 'Annabelle Attanasio', 'Mandy Gonzalez', 'Hayden Christensen', 'Rachel Bilson', 'Alan Arkin', 'Amy Poehler', 'Mindy Kaling', 'Ike Barinholtz', 'Elizabeth Olsen', 'Ellen DeGeneres', \"Ed O'Neill\", 'Kaitlin Olson', 'Joe Manganiello', 'Adam Rodriguez', 'Hunter McCracken', 'Colin Hanks', 'Kat Dennings', 'Lars Eidinger', 'Sigrid Bouaziz', 'Anders Danielsen Lie', '?scar Jaenada', 'Angelo Josue Lozano Corzo', 'Brett Cullen', 'Olivia DeJonge', 'Deanna Dunagan', 'Peter McRobbie', 'Odeya Rush', 'Ryan Lee', 'Michael Douglas', 'Corey Stoll', 'Jon Daly', 'David Spade', 'Chris Rock', 'Skyler Gisondo', 'Steele Stebbins', 'Kate McKinnon', 'Leslie Jones', 'Dave Franco', 'Emily Meade', 'Miles Heizer', 'Donald Sutherland', 'Alexis Dziena', 'Candice Bergen', 'Bryan Greenberg', 'Sylvia Hoeks', 'John Turturro', 'Emmanuelle Chriqui', 'Nick Swardson', 'Julia Ormond', 'Cara Buono', 'Werner Herzog', 'Gretchen Mol', 'Kathy Bates', 'Kurt Fuller', 'Bonnie Hunt', 'Paul Newman', 'Larry the Cable Guy', 'Dick Van Dyke', 'Craig Robinson', 'Gerry Bednob', 'John Hawkes', 'Garret Dillahunt', 'Isaiah Stone', 'Ellar Coltrane', 'Patricia Arquette', 'Elijah Smith', 'Sarah Snook', 'Noah Taylor', 'Madeleine West', 'Damaine Radcliff', \"De'Shawn Washington\", 'Maggie Gyllenhaal', 'Mandy Moore', 'Zachary Levi', 'Donna Murphy', 'Selma Blair', 'Doug Jones', 'John Alexander', 'Common', 'Stephen Henderson', 'Jovan Adepo', 'Jim Caviezel', 'Val Kilmer', 'Danny Sapani', 'Adrian Grenier', 'Kevin Connolly', 'Jerry Ferrara', 'Kevin Dillon', 'Gabourey Sidibe', \"Mo'Nique\", 'Mariah Carey', 'Jake Johnson', 'Damon Wayans Jr.', 'Nina Dobrev', 'Lydia Wilson', 'Freddie Highmore', 'Jonathan Rhys Meyers', 'Saurabh Shukla', 'Anil Kapoor', 'Nicholas Braun', 'Mateo Arias', 'Israel Broussard', 'Kristin Scott Thomas', 'Eric Godon', 'Winona Ryder', 'Joel McHale', 'Patricia Clarkson', 'Jenna Elfman', 'Tom Mison', 'Cara Delevingne', 'Austin Abrams', 'Justice Smith', 'Alistair Abell', 'Emma Fitzpatrick', 'John Cullum', 'Morena Baccarin', 'Ed Skrein', 'Ryan Potter', 'Scott Adsit', 'Jamie Chung', 'Adam Pally', 'Thomas Middleditch', 'Shannon Woodward', 'Geoffrey Arend', 'Matthew Zuk', 'Gabriela Lopez', 'Bailey Anne Borders', 'Kylie Rogers', 'Martin Henderson', 'Brighton Sharbino', 'Ang Phula Sherpa', 'Thomas M. Wright', 'Allison Tolman', 'Scott Speedman', 'Gemma Ward', 'Alex Fisher', 'George Lopez', 'Karen Disher', 'Josh Hartnett', 'Lucy Liu', 'Natalie Martinez', 'Matthew Goode', 'Allen Leech', 'Jessica Barth', 'Mackenzie Foy', 'Adam Levine', 'Gael Garcia Bernal', 'Mohamed Akhzam', 'Ben Barnes', 'Kristen Connolly', 'Anna Hutchison', 'Fran Kranz', 'Wei Tang', 'Leehom Wang', 'Andrea Whitburn', 'Jennifer Koenig', 'Michael Dickson', 'Brian Geraghty', 'Ashton Kutcher', 'Kevin Kline', 'Cary Elwes', 'Brian Dennehy', 'Hayden Panettiere', 'Catalina Sandino Moreno', 'Jamal Woolard', 'Derek Luke', 'Momo Dione', 'David James', 'Jason Cope', 'Nathalie Boltt', 'Sunny Pawar', 'Joe Alwyn', 'Arturo Castro', 'Mason Lee', 'Julianna Margulies', 'Nathan Phillips', 'Rachel Blanchard', 'Nick Nolte', 'Jennifer Morrison', 'Kelly Adams', 'Luing Andrews', 'Katy Barker', 'Ruth Negga', 'Will Dalton', 'Dean Mumford', 'Annabelle Wallis', 'Tom Cullen', 'Clint Dyer', 'Ward Horton', 'Alfre Woodard', 'Tony Amendola', 'John Travolta', 'Queen Latifah', 'Nikki Blonsky']\n"
     ]
    }
   ],
   "source": [
    "#1-7  #跑得很慢\n",
    "\n",
    "import pandas as pd\n",
    "\n",
    "movies = pd.read_csv(\"IMDB-Movie-Data.csv\")\n",
    "\n",
    "movies[\"Actors\"] = movies[\"Actors\"].str.split(\"|\", expand = False)             #把Actors欄位的值拆成一個list，儲存四位演員\n",
    "\n",
    "for i in range(len(movies)):                                                   #剔除空格\n",
    "    for j in range(len(movies[\"Actors\"][i])):\n",
    "        movies[\"Actors\"][i][j] = movies[\"Actors\"][i][j].strip()\n",
    "        \n",
    "\n",
    "actors = []\n",
    "\n",
    "for i in range(len(movies[\"Actors\"])):                                         #建立清單不重複的儲存所有的actor\n",
    "    for j in range(len(movies[\"Actors\"][i])):\n",
    "        if movies[\"Actors\"][i][j] not in actors:\n",
    "            actors.append(movies[\"Actors\"][i][j])\n",
    "actors = pd.Series(actors)\n",
    "\n",
    "\n",
    "ans = []\n",
    "\n",
    "\n",
    "def dirCollab(aName):\n",
    "    \n",
    "    collab = []\n",
    "    collabNew = []\n",
    "    \n",
    "    for i in range(len(movies[\"Actors\"])):                                    #把直接合作過的演員加入collab\n",
    "        if aName in movies[\"Actors\"][i]:\n",
    "            collab.append(movies[\"Actors\"][i])\n",
    "    \n",
    "    for i in range(len(collab)):                                              #移除演員本人\n",
    "        collab[i].remove(aName)\n",
    "        \n",
    "    for i in range(len(collab)):                                              #把合作過的演員不重複的加入ans和collabNew\n",
    "        for j in range(len(collab[i])):\n",
    "            if collab[i][j] not in ans:\n",
    "                ans.append(collab[i][j])\n",
    "                collabNew.append(collab[i][j])\n",
    "                \n",
    "    for i in range(len(collabNew)):                                           #找出collabNew裡的演員直接合作過的演員\n",
    "        dirCollab(collabNew[i])\n",
    "    \n",
    "    \n",
    "dirCollab(\"Johnny Depp\")\n",
    "\n",
    "print(\"All actors who have collaborated with Johnny Depp in direct or indirect ways: \")\n",
    "print(ans)"
   ]
  }
 ],
 "metadata": {
  "kernelspec": {
   "display_name": "Python 3",
   "language": "python",
   "name": "python3"
  },
  "language_info": {
   "codemirror_mode": {
    "name": "ipython",
    "version": 3
   },
   "file_extension": ".py",
   "mimetype": "text/x-python",
   "name": "python",
   "nbconvert_exporter": "python",
   "pygments_lexer": "ipython3",
   "version": "3.8.8"
  }
 },
 "nbformat": 4,
 "nbformat_minor": 5
}
